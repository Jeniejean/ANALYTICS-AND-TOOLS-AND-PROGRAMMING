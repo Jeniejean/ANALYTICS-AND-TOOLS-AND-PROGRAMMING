{
  "nbformat": 4,
  "nbformat_minor": 0,
  "metadata": {
    "colab": {
      "provenance": [],
      "authorship_tag": "ABX9TyO25zuNclW4UiaoKgmwNYb/",
      "include_colab_link": true
    },
    "kernelspec": {
      "name": "python3",
      "display_name": "Python 3"
    },
    "language_info": {
      "name": "python"
    }
  },
  "cells": [
    {
      "cell_type": "markdown",
      "metadata": {
        "id": "view-in-github",
        "colab_type": "text"
      },
      "source": [
        "<a href=\"https://colab.research.google.com/github/Jeniejean/ANALYTICS-AND-TOOLS-AND-PROGRAMMING/blob/main/Data_analytics_(EPL_2021~2022)_Nutthida_Yotaprasert_6610422019.ipynb\" target=\"_parent\"><img src=\"https://colab.research.google.com/assets/colab-badge.svg\" alt=\"Open In Colab\"/></a>"
      ]
    },
    {
      "cell_type": "code",
      "execution_count": null,
      "metadata": {
        "id": "-DlskH8KKSfS"
      },
      "outputs": [],
      "source": [
        "import pandas as pd\n",
        "import numpy as np"
      ]
    },
    {
      "cell_type": "code",
      "source": [
        "df = pd.read_csv('https://raw.githubusercontent.com/Jeniejean/ANALYTICS-AND-TOOLS-AND-PROGRAMMING/main/Football_data.csv')\n",
        "print(df)"
      ],
      "metadata": {
        "colab": {
          "base_uri": "https://localhost:8080/"
        },
        "id": "AiKZB7BkKUrU",
        "outputId": "a9355809-e21d-41fb-aafe-f886f307935c"
      },
      "execution_count": null,
      "outputs": [
        {
          "output_type": "stream",
          "name": "stdout",
          "text": [
            "    Div        Date   Time        HomeTeam        AwayTeam  FTHG  FTAG FTR  \\\n",
            "0    E0  13/08/2021  20:00       Brentford         Arsenal     2     0   H   \n",
            "1    E0  14/08/2021  12:30      Man United           Leeds     5     1   H   \n",
            "2    E0  14/08/2021  15:00         Burnley        Brighton     1     2   A   \n",
            "3    E0  14/08/2021  15:00         Chelsea  Crystal Palace     3     0   H   \n",
            "4    E0  14/08/2021  15:00         Everton     Southampton     3     1   H   \n",
            "..   ..         ...    ...             ...             ...   ...   ...  ..   \n",
            "375  E0  22/05/2022  16:00  Crystal Palace      Man United     1     0   H   \n",
            "376  E0  22/05/2022  16:00       Leicester     Southampton     4     1   H   \n",
            "377  E0  22/05/2022  16:00       Liverpool          Wolves     3     1   H   \n",
            "378  E0  22/05/2022  16:00        Man City     Aston Villa     3     2   H   \n",
            "379  E0  22/05/2022  16:00         Norwich       Tottenham     0     5   A   \n",
            "\n",
            "     HTHG  HTAG  ... AvgC<2.5  AHCh  B365CAHH  B365CAHA  PCAHH  PCAHA  \\\n",
            "0       1     0  ...     1.62  0.50      1.75      2.05   1.81   2.13   \n",
            "1       1     0  ...     2.25 -1.00      2.05      1.75   2.17   1.77   \n",
            "2       1     0  ...     1.62  0.25      1.79      2.15   1.81   2.14   \n",
            "3       2     0  ...     1.94 -1.50      2.05      1.75   2.12   1.81   \n",
            "4       0     1  ...     1.67 -0.50      2.05      1.88   2.05   1.88   \n",
            "..    ...   ...  ...      ...   ...       ...       ...    ...    ...   \n",
            "375     1     0  ...     2.04  0.25      1.68      2.15   1.74   2.23   \n",
            "376     0     0  ...     2.63 -0.75      1.83      2.07   1.88   2.03   \n",
            "377     1     1  ...     3.28 -2.50      2.02      1.77   2.06   1.83   \n",
            "378     0     1  ...     3.36 -2.25      2.06      1.84   2.05   1.86   \n",
            "379     0     2  ...     2.40  1.50      1.95      1.95   1.96   1.94   \n",
            "\n",
            "     MaxCAHH  MaxCAHA  AvgCAHH  AvgCAHA  \n",
            "0       2.05     2.17     1.80     2.09  \n",
            "1       2.19     1.93     2.10     1.79  \n",
            "2       1.82     2.19     1.79     2.12  \n",
            "3       2.16     1.93     2.06     1.82  \n",
            "4       2.08     1.90     2.03     1.86  \n",
            "..       ...      ...      ...      ...  \n",
            "375     1.88     2.25     1.74     2.16  \n",
            "376     1.94     2.26     1.87     2.01  \n",
            "377     2.19     1.99     2.07     1.80  \n",
            "378     2.09     2.03     2.01     1.87  \n",
            "379     2.16     1.98     1.99     1.89  \n",
            "\n",
            "[380 rows x 106 columns]\n"
          ]
        }
      ]
    },
    {
      "cell_type": "markdown",
      "source": [
        "**Simple Stats - 3 Questions:**\n",
        "\n",
        "1. Who was the top judge in the competition for the year 2021-2022?\n",
        "2. Which home team and which visiting team scored the most goals at the end of the competition?\n",
        "3. Which team committed the most fouls, and how many did they commit? What were some of the fouls?\n",
        "\n",
        "**Advanced - 2 Questions:**\n",
        "\n",
        "4. Which website is the most worthwhile for sports betting?\n",
        "5. Does the time period during the competition have an impact on goal scoring?"
      ],
      "metadata": {
        "id": "d3j27VXrKmNu"
      }
    },
    {
      "cell_type": "code",
      "source": [
        "#1\n",
        "referee_counts = df['Referee'].value_counts().head(1)\n",
        "\n",
        "print('top judge in the competition for the year 2021-2022 is:', referee_counts)"
      ],
      "metadata": {
        "colab": {
          "base_uri": "https://localhost:8080/"
        },
        "id": "6PC6KHkCKU2h",
        "outputId": "1589918f-582d-4274-fe8f-0ceb3334ded0"
      },
      "execution_count": null,
      "outputs": [
        {
          "output_type": "stream",
          "name": "stdout",
          "text": [
            "top judge in the competition for the year 2021-2022 is: A Taylor    28\n",
            "Name: Referee, dtype: int64\n"
          ]
        }
      ]
    },
    {
      "cell_type": "code",
      "source": [
        "#2. ทีมเจ้าบ้าน และทีมเยือนใด ใดทำประตูได้เยอะที่สุดหลังจบการแข่งขัน\n",
        "home_goals = df.groupby('HomeTeam')['FTHG'].sum().reset_index(name='Total Goals Home')\n",
        "away_goals = df.groupby('AwayTeam')['FTAG'].sum().reset_index(name='Total Goals Away')\n",
        "\n",
        "home_goals_sort = home_goals.sort_values(by='Total Goals Home', ascending=False)\n",
        "away_goals_sort = away_goals.sort_values(by='Total Goals Away', ascending=False)\n",
        "\n",
        "compare_goals = pd.merge(\n",
        "    home_goals_sort,\n",
        "    away_goals_sort,\n",
        "    left_on='HomeTeam',\n",
        "    right_on='AwayTeam')\n",
        "\n",
        "print(compare_goals)"
      ],
      "metadata": {
        "id": "iLFpXi3aKU-d"
      },
      "execution_count": null,
      "outputs": []
    },
    {
      "cell_type": "code",
      "source": [
        "#3. ทีมใดกระทำความผิดเยอะที่สุด และจำนวนกี่ใบ มีอะไรบ้าง\n",
        "#หาTotal false ทั้งหมดก่อนนะ อันดับแรกเลย\n",
        "home_f = df.groupby('HomeTeam')['HF'].sum().reset_index(name='Total HF')\n",
        "away_f = df.groupby('AwayTeam')['AF'].sum().reset_index(name='Total AF')\n",
        "ha_f = pd.merge(home_f, away_f, left_on='HomeTeam', right_on='AwayTeam')\n",
        "ha_f['Total Falses'] = ha_f['Total HF'] + ha_f['Total AF']\n",
        "ha_f_sorted = ha_f.sort_values('Total Falses', ascending=False)\n",
        "\n",
        "\n",
        "#ทีนี้มาหาใบเหลืองของแต่ละทีมต่อ\n",
        "h_yellow = df.groupby('HomeTeam')['HY'].sum().reset_index(name='Total HY')\n",
        "a_yellow = df.groupby('AwayTeam')['AY'].sum().reset_index(name='Total AY')\n",
        "\n",
        "ha_y = pd.merge(h_yellow, a_yellow, left_on='HomeTeam', right_on='AwayTeam')\n",
        "ha_y['Total YCards'] = ha_y['Total HY'] + ha_y['Total AY']\n",
        "\n",
        "\n",
        "#ทีนี้มาหาใบแดงของแต่ละทีมต่อ\n",
        "h_red = df.groupby('HomeTeam')['HR'].sum().reset_index(name='Total HR')\n",
        "a_red = df.groupby('AwayTeam')['AR'].sum().reset_index(name='Total AR')\n",
        "\n",
        "ha_r = pd.merge(h_red, a_red, left_on='HomeTeam', right_on='AwayTeam')\n",
        "ha_r['Total RCards'] = ha_r['Total HR'] + ha_r['Total AR']\n",
        "\n",
        "\n",
        "#เอาทั้งสามอย่างที่หาก่อนหน้านี้มารวมกัน\n",
        "ha_f_y = pd.merge(ha_f_sorted, ha_y, on='HomeTeam')\n",
        "ha_f_y_r = pd.merge(ha_f_y, ha_r, on='HomeTeam')\n",
        "ha_f_y_r['Total Cards'] = ha_f_y_r['Total YCards'] + ha_f_y_r['Total RCards']\n",
        "\n",
        "#สั่งปริ้นเลย\n",
        "print(ha_f_y_r[['HomeTeam', 'Total Falses', 'Total YCards', 'Total RCards', 'Total Cards']].head(10))"
      ],
      "metadata": {
        "id": "lcMEQc9dkeuX"
      },
      "execution_count": null,
      "outputs": []
    },
    {
      "cell_type": "code",
      "source": [
        "#4. ควรเล่นพนันกับเว็บไหนคุ้มที่สุด\n",
        "\n",
        "roll = df['Div'].count()\n",
        "\n",
        "h_avg = {\n",
        "    'B365': df['B365H'].sum() / roll,\n",
        "    'Bet&Win': df['BWH'].sum() / roll,\n",
        "    'Interwetten': df['IWH'].sum() / roll,\n",
        "    'Pinnacle Sports': df['PSH'].sum() / roll,\n",
        "    'William Hill': df['WHH'].sum() / roll,\n",
        "    'BetVictor': df['VCH'].sum() / roll\n",
        "}\n",
        "\n",
        "d_avg = {\n",
        "    'B365': df['B365D'].sum() / roll,\n",
        "    'Bet&Win': df['BWD'].sum() / roll,\n",
        "    'Interwetten': df['IWD'].sum() / roll,\n",
        "    'Pinnacle Sports': df['PSD'].sum() / roll,\n",
        "    'William Hill': df['WHD'].sum() / roll,\n",
        "    'BetVictor': df['VCD'].sum() / roll\n",
        "}\n",
        "\n",
        "a_avg = {\n",
        "    'B365': df['B365A'].sum() / roll,\n",
        "    'Bet&Win': df['BWA'].sum() / roll,\n",
        "    'Interwetten': df['IWA'].sum() / roll,\n",
        "    'Pinnacle Sports': df['PSA'].sum() / roll,\n",
        "    'William Hill': df['WHA'].sum() / roll,\n",
        "    'BetVictor': df['VCA'].sum() / roll\n",
        "}\n",
        "\n",
        "best_h_company, best_h_rate = max(h_avg.items(), key=lambda item: item[1])\n",
        "best_d_company, best_d_rate = max(d_avg.items(), key=lambda item: item[1])\n",
        "best_a_company, best_a_rate = max(a_avg.items(), key=lambda item: item[1])\n",
        "\n",
        "best_company = max(best_h_company, best_d_company, best_a_company)\n",
        "\n",
        "# Print out the best rates with two decimal places and company names\n",
        "print(f\"ราคาเดิมพันเฉลี่ยสำหรับการชนะของทีมเจ้าบ้านสูงที่สุดคือ: {best_h_rate:.2f} จาก {best_h_company}\")\n",
        "print(f\"ราคาเดิมพันเฉลี่ยสำหรับการเสมอสูงที่สุดคือ: {best_d_rate:.2f} จาก {best_d_company}\")\n",
        "print(f\"ราคาเดิมพันเฉลี่ยสำหรับการชนะของทีมเยือนสูงที่สุดคือ: {best_a_rate:.2f} จาก {best_a_company}\")\n",
        "\n",
        "print('ดังนั้นควรเล่นพนันกับเว็บไซต์', best_company)"
      ],
      "metadata": {
        "id": "TgVIi-Q1KVB8"
      },
      "execution_count": null,
      "outputs": []
    },
    {
      "cell_type": "code",
      "source": [
        "#5. ช่วงเวลาในการแข่งขัน มีผลต่อการทำประตูหรือไม่\n",
        "\n",
        "time_count = df['Time'].value_counts().reset_index().rename(columns={'index':'Time', 'Time':'Time Count'})\n",
        "\n",
        "t_h = df.groupby('Time')['FTHG'].sum().reset_index().rename(columns={'FTHG':'Home Goals'})\n",
        "t_a = df.groupby('Time')['FTAG'].sum().reset_index().rename(columns={'FTAG':'Away Goals'})\n",
        "\n",
        "total_goals = pd.merge(t_h, t_a, on='Time')\n",
        "total_goals['Total Goals'] = total_goals['Home Goals'] + total_goals['Away Goals']\n",
        "\n",
        "time_c = pd.merge(time_count, total_goals, on='Time')\n",
        "\n",
        "#เอาประตูที่ทำได้หารเวลาเริ่มเกม\n",
        "time_c['Winning Avg'] = time_c['Total Goals'] / time_c['Time Count']\n",
        "time_c['Winning Avg'] = time_c['Winning Avg'].round(3)\n",
        "\n",
        "b_t = time_c[time_c['Winning Avg'] == time_c['Winning Avg'].max()]\n",
        "w_t = time_c[time_c['Winning Avg'] == time_c['Winning Avg'].min()]\n",
        "\n",
        "best = b_t['Time'].iloc[0]\n",
        "best_avg = b_t['Winning Avg'].iloc[0]\n",
        "worst = w_t['Time'].iloc[0]\n",
        "worst_avg = w_t['Winning Avg'].iloc[0]\n",
        "\n",
        "\n",
        "print(time_c[['Time', 'Time Count', 'Total Goals', 'Winning Avg']])\n",
        "\n",
        "\n",
        "print('เวลาเริ่มเกมที่สามารถทำประตูได้ดีที่สุดคือเวลา:', best, 'ด้วยอัตราการทำประตูที่:', best_avg)\n",
        "print('เวลาเริ่มเกมที่สามารถทำประตูได้แย่ที่สุดคือเวลา:', worst, 'ด้วยอัตราการทำประตูที่:', worst_avg)"
      ],
      "metadata": {
        "id": "naDOJ8QiKVFZ"
      },
      "execution_count": null,
      "outputs": []
    }
  ]
}